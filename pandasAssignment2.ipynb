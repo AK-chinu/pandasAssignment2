{
 "cells": [
  {
   "cell_type": "markdown",
   "id": "c13d5bfc-d2dc-4aac-8ab9-2aeab144fcca",
   "metadata": {},
   "source": [
    "read_csv(): This function is used to read data from a CSV file into a DataFrame."
   ]
  },
  {
   "cell_type": "code",
   "execution_count": 3,
   "id": "2645dcff-2416-4356-bf87-6b9e9111a7d3",
   "metadata": {},
   "outputs": [],
   "source": [
    "import pandas as pd\n",
    "\n",
    "# Read data from a CSV file into a DataFrame\n",
    "df = pd.read_csv(\"amazon_products.csv\")\n"
   ]
  },
  {
   "cell_type": "markdown",
   "id": "d7ac8999-a85e-493f-911a-41922588f44a",
   "metadata": {},
   "source": [
    "head(): This function is used to display the first few rows of a DataFrame."
   ]
  },
  {
   "cell_type": "code",
   "execution_count": 5,
   "id": "28bf9335-f0c1-4302-9911-28fa61b30658",
   "metadata": {},
   "outputs": [
    {
     "name": "stdout",
     "output_type": "stream",
     "text": [
      "                                        Product Name              Rating  \\\n",
      "0  VW 80 cm (32 inches) Frameless Series HD Ready...  3.8 out of 5 stars   \n",
      "1  VW 80 cm (32 inches) Frameless Series HD Ready...  3.8 out of 5 stars   \n",
      "2  MI 80 cm (32 inches) A Series HD Ready Smart G...  4.2 out of 5 stars   \n",
      "3  Samsung 163 cm (65 inches) 4K Ultra HD Smart Q...  4.3 out of 5 stars   \n",
      "4  Redmi 80 cm (32 inches) F Series HD Ready Smar...  4.2 out of 5 stars   \n",
      "\n",
      "   Customers_Rated      Price  \n",
      "0            10621   Rs 7,499  \n",
      "1            10621   Rs 7,499  \n",
      "2            56425  Rs 12,499  \n",
      "3                3  Rs 99,990  \n",
      "4            60773  Rs 12,999  \n"
     ]
    }
   ],
   "source": [
    "# Display the first 5 rows of the DataFrame\n",
    "print(df.head(5))"
   ]
  },
  {
   "cell_type": "markdown",
   "id": "c09fce5a-fe95-4806-8e85-df76e0f2d9a1",
   "metadata": {},
   "source": [
    "info(): This function is used to get a concise summary of the DataFrame, including the data types of each column and the number of non-null values."
   ]
  },
  {
   "cell_type": "code",
   "execution_count": 6,
   "id": "eeeeba6c-6a0b-4662-b4ad-f9c4b5906ee2",
   "metadata": {},
   "outputs": [
    {
     "name": "stdout",
     "output_type": "stream",
     "text": [
      "<class 'pandas.core.frame.DataFrame'>\n",
      "RangeIndex: 34 entries, 0 to 33\n",
      "Data columns (total 4 columns):\n",
      " #   Column           Non-Null Count  Dtype \n",
      "---  ------           --------------  ----- \n",
      " 0   Product Name     34 non-null     object\n",
      " 1   Rating           34 non-null     object\n",
      " 2   Customers_Rated  34 non-null     int64 \n",
      " 3   Price            34 non-null     object\n",
      "dtypes: int64(1), object(3)\n",
      "memory usage: 1.2+ KB\n",
      "None\n"
     ]
    }
   ],
   "source": [
    "# Get concise summary of the DataFrame\n",
    "print(df.info())\n"
   ]
  },
  {
   "cell_type": "markdown",
   "id": "871a287a-046a-4ebf-ad3d-402cecbbb135",
   "metadata": {},
   "source": [
    "describe(): This function generates descriptive statistics of the DataFrame, such as count, mean, standard deviation, minimum, maximum, and quartile values."
   ]
  },
  {
   "cell_type": "code",
   "execution_count": 7,
   "id": "625c7d6b-d6a7-4082-b6ec-784f626f2dc2",
   "metadata": {},
   "outputs": [
    {
     "name": "stdout",
     "output_type": "stream",
     "text": [
      "       Customers_Rated\n",
      "count        34.000000\n",
      "mean       9565.823529\n",
      "std       16299.618442\n",
      "min           2.000000\n",
      "25%         165.750000\n",
      "50%        3875.000000\n",
      "75%       11389.000000\n",
      "max       60773.000000\n"
     ]
    }
   ],
   "source": [
    "# Generate descriptive statistics of the DataFrame\n",
    "print(df.describe())\n"
   ]
  },
  {
   "cell_type": "markdown",
   "id": "ea9f19d0-aef5-430b-a462-d616d2ee9fc0",
   "metadata": {},
   "source": [
    "groupby(): This function is used to group data in a DataFrame based on specified columns, which allows for aggregation and analysis of data within each group."
   ]
  },
  {
   "cell_type": "code",
   "execution_count": null,
   "id": "3876b5ca-4fa6-40c2-9297-0cee01f1e11b",
   "metadata": {},
   "outputs": [],
   "source": []
  },
  {
   "cell_type": "code",
   "execution_count": 1,
   "id": "645880c9-5ef4-4a47-bd1b-fc5d25cec111",
   "metadata": {},
   "outputs": [
    {
     "name": "stdout",
     "output_type": "stream",
     "text": [
      "          A  B   C\n",
      "NewIndex          \n",
      "1         1  5   9\n",
      "3         2  6  10\n",
      "5         3  7  11\n",
      "7         4  8  12\n"
     ]
    }
   ],
   "source": [
    "import pandas as pd\n",
    "\n",
    "def reindex_with_incrementing_index(df):\n",
    "    # Creating a new index starting from 1 and incrementing by 2\n",
    "    new_index = pd.Index(range(1, len(df) * 2, 2), name='NewIndex')\n",
    "    # Assigning the new index to the DataFrame\n",
    "    df.index = new_index\n",
    "    return df\n",
    "\n",
    "# Example usage:\n",
    "# Assuming df is your DataFrame with columns 'A', 'B', and 'C'\n",
    "df = pd.DataFrame({\n",
    "    'A': [1, 2, 3, 4],\n",
    "    'B': [5, 6, 7, 8],\n",
    "    'C': [9, 10, 11, 12]\n",
    "})\n",
    "\n",
    "# Reindexing the DataFrame\n",
    "df = reindex_with_incrementing_index(df)\n",
    "print(df)\n"
   ]
  },
  {
   "cell_type": "code",
   "execution_count": null,
   "id": "f2605b23-a3dd-4153-83c6-a6d9b4e11149",
   "metadata": {},
   "outputs": [],
   "source": []
  },
  {
   "cell_type": "code",
   "execution_count": 2,
   "id": "e7d6078f-ca70-492f-99a2-e09c663bbe86",
   "metadata": {},
   "outputs": [
    {
     "name": "stdout",
     "output_type": "stream",
     "text": [
      "Sum of the first three values: 6\n"
     ]
    }
   ],
   "source": [
    "import pandas as pd\n",
    "\n",
    "def sum_first_three_values(df):\n",
    "    # Initialize sum\n",
    "    total_sum = 0\n",
    "    \n",
    "    # Iterate over the first three values in the 'Values' column\n",
    "    for value in df['Values'].iloc[:3]:  # iloc[:3] selects the first three values\n",
    "        total_sum += value\n",
    "    \n",
    "    # Print the sum to the console\n",
    "    print(\"Sum of the first three values:\", total_sum)\n",
    "\n",
    "# Example usage:\n",
    "# Assuming df is your DataFrame with a column named 'Values'\n",
    "df = pd.DataFrame({'Values': [1, 2, 3, 4, 5]})\n",
    "\n",
    "# Calling the function\n",
    "sum_first_three_values(df)\n"
   ]
  },
  {
   "cell_type": "code",
   "execution_count": null,
   "id": "fa36b2d2-2e8f-4843-8745-6a4a5fd9e757",
   "metadata": {},
   "outputs": [],
   "source": []
  },
  {
   "cell_type": "code",
   "execution_count": 3,
   "id": "68602f06-d0b7-4926-99a8-bafe5893cf80",
   "metadata": {},
   "outputs": [
    {
     "name": "stdout",
     "output_type": "stream",
     "text": [
      "                     Text  Word_Count\n",
      "0     This is a sentence.           4\n",
      "1  Another sentence here.           3\n",
      "2       A third sentence.           3\n"
     ]
    }
   ],
   "source": [
    "import pandas as pd\n",
    "\n",
    "def add_word_count_column(df):\n",
    "    # Function to count the number of words in each row\n",
    "    word_count = lambda text: len(text.split())\n",
    "    \n",
    "    # Apply the function to each row in the 'Text' column and create a new column 'Word_Count'\n",
    "    df['Word_Count'] = df['Text'].apply(word_count)\n",
    "    \n",
    "    return df\n",
    "\n",
    "# Example usage:\n",
    "# Assuming df is your DataFrame with a column named 'Text'\n",
    "df = pd.DataFrame({'Text': ['This is a sentence.', 'Another sentence here.', 'A third sentence.']})\n",
    "\n",
    "# Adding the 'Word_Count' column\n",
    "df = add_word_count_column(df)\n",
    "print(df)\n"
   ]
  },
  {
   "cell_type": "code",
   "execution_count": null,
   "id": "e2618462-1e92-4db1-83f3-b7ba3d3768bc",
   "metadata": {},
   "outputs": [],
   "source": []
  },
  {
   "cell_type": "markdown",
   "id": "0e8c3083-f0c7-447d-826d-24577afe24fa",
   "metadata": {},
   "source": [
    "DataFrame.size:\n",
    "\n",
    "DataFrame.size returns the total number of elements (cells) in the DataFrame, which is equal to the product of the number of rows and the number of columns.\n",
    "It calculates the size by multiplying the number of rows (DataFrame.shape[0]) by the number of columns (DataFrame.shape[1]).\n",
    "The size attribute returns a single integer value representing the total number of elements in the DataFrame.\n",
    "DataFrame.shape:\n",
    "\n",
    "DataFrame.shape returns a tuple representing the dimensions of the DataFrame.\n",
    "It returns a tuple in the format (number of rows, number of columns), indicating the number of rows and the number of columns in the DataFrame.\n",
    "The shape attribute returns a tuple with two elements, providing information about the DataFrame's structure.\n"
   ]
  },
  {
   "cell_type": "code",
   "execution_count": null,
   "id": "15d9e8c6-74c2-4979-9313-50ea8cad68c0",
   "metadata": {},
   "outputs": [],
   "source": []
  },
  {
   "cell_type": "code",
   "execution_count": 5,
   "id": "ac9e0e5d-6124-4ebb-b71e-75e1747bc8a7",
   "metadata": {},
   "outputs": [
    {
     "name": "stdout",
     "output_type": "stream",
     "text": [
      "    Unnamed: 0  Unnamed: 1  Unnamed: 2  \\\n",
      "0          NaN         NaN         NaN   \n",
      "1          NaN         NaN         NaN   \n",
      "2          NaN         NaN         NaN   \n",
      "3          NaN         NaN         NaN   \n",
      "4          NaN         NaN         NaN   \n",
      "5          NaN         NaN         NaN   \n",
      "6          NaN         NaN         NaN   \n",
      "7          NaN         NaN         NaN   \n",
      "8          NaN         NaN         NaN   \n",
      "9          NaN         NaN         NaN   \n",
      "10         NaN         NaN         NaN   \n",
      "11         NaN         NaN         NaN   \n",
      "12         NaN         NaN         NaN   \n",
      "13         NaN         NaN         NaN   \n",
      "14         NaN         NaN         NaN   \n",
      "15         NaN         NaN         NaN   \n",
      "16         NaN         NaN         NaN   \n",
      "17         NaN         NaN         NaN   \n",
      "18         NaN         NaN         NaN   \n",
      "19         NaN         NaN         NaN   \n",
      "20         NaN         NaN         NaN   \n",
      "21         NaN         NaN         NaN   \n",
      "22         NaN         NaN         NaN   \n",
      "23         NaN         NaN         NaN   \n",
      "24         NaN         NaN         NaN   \n",
      "25         NaN         NaN         NaN   \n",
      "26         NaN         NaN         NaN   \n",
      "27         NaN         NaN         NaN   \n",
      "\n",
      "                                           Unnamed: 3  \\\n",
      "0                                                 NaN   \n",
      "1                                  Datetimes in LUSID   \n",
      "2                                                 NaN   \n",
      "3    This sheet allows you to format datetimes for...   \n",
      "4         If you have any questions please visit our:   \n",
      "5                                                 NaN   \n",
      "6                                                 NaN   \n",
      "7                                                 NaN   \n",
      "8                                                 NaN   \n",
      "9                                                 NaN   \n",
      "10                                                NaN   \n",
      "11                                                NaN   \n",
      "12                                                NaN   \n",
      "13                                                NaN   \n",
      "14                                                NaN   \n",
      "15                                                NaN   \n",
      "16                                                NaN   \n",
      "17                                                NaN   \n",
      "18                                                NaN   \n",
      "19                                                NaN   \n",
      "20                                                NaN   \n",
      "21                                                NaN   \n",
      "22                                                NaN   \n",
      "23                                                NaN   \n",
      "24                                                NaN   \n",
      "25                                                NaN   \n",
      "26                                                NaN   \n",
      "27                                                NaN   \n",
      "\n",
      "                                           Unnamed: 4  \\\n",
      "0                                                 NaN   \n",
      "1                                                 NaN   \n",
      "2                                                 NaN   \n",
      "3                                                 NaN   \n",
      "4                                                 NaN   \n",
      "5                           Getting Started tutorials   \n",
      "6                             Knowledge Base articles   \n",
      "7                                       or Contact us   \n",
      "8                                                 NaN   \n",
      "9                                                 NaN   \n",
      "10                                                NaN   \n",
      "11  LUSID accepts datetimes in any recognised Exce...   \n",
      "12                                                NaN   \n",
      "13                     Excel formats to show datetime   \n",
      "14                                                NaN   \n",
      "15                          Enter the date to convert   \n",
      "16                                                NaN   \n",
      "17                    This date has no time component   \n",
      "18                                                NaN   \n",
      "19                             Specify time component   \n",
      "20                                                NaN   \n",
      "21  Add to your date and display the complete date...   \n",
      "22                                                NaN   \n",
      "23   Although the date can still appears without time   \n",
      "24                                                NaN   \n",
      "25                       Add an hour to your datetime   \n",
      "26                                                NaN   \n",
      "27               Subtract a minute from your datetime   \n",
      "\n",
      "                    Unnamed: 5  Unnamed: 6  \\\n",
      "0                          NaN         NaN   \n",
      "1                          NaN         NaN   \n",
      "2                          NaN         NaN   \n",
      "3                          NaN         NaN   \n",
      "4                          NaN         NaN   \n",
      "5                          NaN         NaN   \n",
      "6                          NaN         NaN   \n",
      "7                          NaN         NaN   \n",
      "8                          NaN         NaN   \n",
      "9                          NaN         NaN   \n",
      "10                         NaN         NaN   \n",
      "11                         NaN         NaN   \n",
      "12                         NaN         NaN   \n",
      "13                         NaN         NaN   \n",
      "14                         NaN         NaN   \n",
      "15         2019-04-10 00:00:00         NaN   \n",
      "16                         NaN         NaN   \n",
      "17         2019-04-10 00:00:00         NaN   \n",
      "18                         NaN         NaN   \n",
      "19             13:30:45.550000         NaN   \n",
      "20                         NaN         NaN   \n",
      "21  2019-04-10 13:30:45.550000         NaN   \n",
      "22                         NaN         NaN   \n",
      "23  2019-04-10 13:30:45.550000         NaN   \n",
      "24                         NaN         NaN   \n",
      "25  2019-04-10 14:30:45.550000         NaN   \n",
      "26                         NaN         NaN   \n",
      "27  2019-04-10 14:29:45.550000         NaN   \n",
      "\n",
      "                                           Unnamed: 7  \\\n",
      "0                                                 NaN   \n",
      "1                                                 NaN   \n",
      "2                                                 NaN   \n",
      "3                                                 NaN   \n",
      "4                                                 NaN   \n",
      "5                                                 NaN   \n",
      "6                                                 NaN   \n",
      "7                                                 NaN   \n",
      "8                                                 NaN   \n",
      "9                                                 NaN   \n",
      "10                                                NaN   \n",
      "11  LUSID also accepts UTC, UTS offsets and cutlabels   \n",
      "12                                                NaN   \n",
      "13                                 Additional formats   \n",
      "14                                                NaN   \n",
      "15                            Standard UTC timestamp:   \n",
      "16                                                NaN   \n",
      "17                         Convert date into a string   \n",
      "18                                                NaN   \n",
      "19       UTC offset (not recognised as an excel date)   \n",
      "20                                                NaN   \n",
      "21                                           Cutlabel   \n",
      "22                                                NaN   \n",
      "23                                                NaN   \n",
      "24                                                NaN   \n",
      "25                                                NaN   \n",
      "26                                                NaN   \n",
      "27                                                NaN   \n",
      "\n",
      "                   Unnamed: 8  \\\n",
      "0                         NaN   \n",
      "1                         NaN   \n",
      "2                         NaN   \n",
      "3                         NaN   \n",
      "4                         NaN   \n",
      "5                         NaN   \n",
      "6                         NaN   \n",
      "7                         NaN   \n",
      "8                         NaN   \n",
      "9                         NaN   \n",
      "10                        NaN   \n",
      "11                        NaN   \n",
      "12                        NaN   \n",
      "13                        NaN   \n",
      "14                        NaN   \n",
      "15  \"YYYY-MM-DDTHH:MM:SS.00Z\"   \n",
      "16                        NaN   \n",
      "17   2019-04-10T 13:30:45.55Z   \n",
      "18                        NaN   \n",
      "19  2019-04-10T13:30:45+04:00   \n",
      "20                        NaN   \n",
      "21  2019-04-10NSingaporeClose   \n",
      "22                        NaN   \n",
      "23                        NaN   \n",
      "24                        NaN   \n",
      "25                        NaN   \n",
      "26                        NaN   \n",
      "27                        NaN   \n",
      "\n",
      "                                           Unnamed: 9  \n",
      "0                                                 NaN  \n",
      "1                                                 NaN  \n",
      "2                                                 NaN  \n",
      "3                                                 NaN  \n",
      "4                                                 NaN  \n",
      "5                                                 NaN  \n",
      "6                                                 NaN  \n",
      "7                                                 NaN  \n",
      "8                                                 NaN  \n",
      "9                                                 NaN  \n",
      "10                                                NaN  \n",
      "11                                                NaN  \n",
      "12                                                NaN  \n",
      "13                                                NaN  \n",
      "14                                                NaN  \n",
      "15  Where Z indicates Zulu time (UTC+0), and is eq...  \n",
      "16                                                NaN  \n",
      "17                                                NaN  \n",
      "18                                                NaN  \n",
      "19                                                NaN  \n",
      "20                                                NaN  \n",
      "21                                                NaN  \n",
      "22                                                NaN  \n",
      "23                                                NaN  \n",
      "24                                                NaN  \n",
      "25                                                NaN  \n",
      "26                                                NaN  \n",
      "27                                                NaN  \n"
     ]
    }
   ],
   "source": [
    "import pandas as pd\n",
    "\n",
    "# Read data from an Excel file into a DataFrame\n",
    "df = pd.read_excel('LUSID Excel - Setting up your market data.xlsx')\n",
    "\n",
    "# Display the DataFrame\n",
    "print(df)\n"
   ]
  },
  {
   "cell_type": "code",
   "execution_count": null,
   "id": "28cbcf58-cdcf-4597-8378-4de12884f753",
   "metadata": {},
   "outputs": [],
   "source": []
  },
  {
   "cell_type": "code",
   "execution_count": 6,
   "id": "0e30f437-685e-447a-a008-b8bc32735fb8",
   "metadata": {},
   "outputs": [
    {
     "name": "stdout",
     "output_type": "stream",
     "text": [
      "                    Email    Username\n",
      "0    john.doe@example.com    john.doe\n",
      "1  jane.smith@example.com  jane.smith\n"
     ]
    }
   ],
   "source": [
    "import pandas as pd\n",
    "\n",
    "def extract_username(df):\n",
    "    # Splitting the 'Email' column at '@' symbol and extracting the first part (username)\n",
    "    df['Username'] = df['Email'].str.split('@').str[0]\n",
    "    return df\n",
    "\n",
    "# Example usage:\n",
    "# Assuming df is your DataFrame with a column named 'Email'\n",
    "df = pd.DataFrame({'Email': ['john.doe@example.com', 'jane.smith@example.com']})\n",
    "\n",
    "# Calling the function to extract usernames\n",
    "df = extract_username(df)\n",
    "print(df)\n"
   ]
  },
  {
   "cell_type": "code",
   "execution_count": null,
   "id": "50297337-3442-4495-8fc5-cd329ad9ae9d",
   "metadata": {},
   "outputs": [],
   "source": []
  },
  {
   "cell_type": "code",
   "execution_count": 1,
   "id": "e7a2e276-b3cd-4d25-aa3d-a80436d025f3",
   "metadata": {},
   "outputs": [
    {
     "name": "stdout",
     "output_type": "stream",
     "text": [
      "   A  B  C\n",
      "1  8  2  7\n",
      "2  6  9  4\n",
      "4  9  1  2\n"
     ]
    }
   ],
   "source": [
    "import pandas as pd\n",
    "\n",
    "def select_rows(df):\n",
    "    selected_rows = df[(df['A'] > 5) & (df['B'] < 10)]\n",
    "    return selected_rows\n",
    "\n",
    "# Example usage:\n",
    "# Assuming df is your DataFrame with columns 'A', 'B', and 'C'\n",
    "df = pd.DataFrame({\n",
    "    'A': [3, 8, 6, 2, 9],\n",
    "    'B': [5, 2, 9, 3, 1],\n",
    "    'C': [1, 7, 4, 5, 2]\n",
    "})\n",
    "\n",
    "selected_df = select_rows(df)\n",
    "print(selected_df)\n"
   ]
  },
  {
   "cell_type": "code",
   "execution_count": null,
   "id": "172ccf22-d74e-49be-8464-4f4c9487b664",
   "metadata": {},
   "outputs": [],
   "source": []
  },
  {
   "cell_type": "code",
   "execution_count": 2,
   "id": "51bf69dc-01a5-4c08-afdd-545fd580303f",
   "metadata": {},
   "outputs": [
    {
     "name": "stdout",
     "output_type": "stream",
     "text": [
      "{'Mean': 30.0, 'Median': 30.0, 'Standard Deviation': 15.811388300841896}\n"
     ]
    }
   ],
   "source": [
    "import pandas as pd\n",
    "\n",
    "def calculate_stats(df):\n",
    "    stats = {\n",
    "        'Mean': df['Values'].mean(),\n",
    "        'Median': df['Values'].median(),\n",
    "        'Standard Deviation': df['Values'].std()\n",
    "    }\n",
    "    return stats\n",
    "\n",
    "# Example usage:\n",
    "# Assuming df is your DataFrame with a column 'Values'\n",
    "df = pd.DataFrame({'Values': [10, 20, 30, 40, 50]})\n",
    "\n",
    "result = calculate_stats(df)\n",
    "print(result)\n"
   ]
  },
  {
   "cell_type": "code",
   "execution_count": 3,
   "id": "4fdb0f23-373d-4ab4-a7a1-fcae8dc50de1",
   "metadata": {},
   "outputs": [
    {
     "data": {
      "text/plain": [
       "{'Mean': 30.0, 'Median': 30.0, 'Standard Deviation': 15.811388300841896}"
      ]
     },
     "execution_count": 3,
     "metadata": {},
     "output_type": "execute_result"
    }
   ],
   "source": [
    "{'Mean': 30.0, 'Median': 30.0, 'Standard Deviation': 15.811388300841896}\n"
   ]
  },
  {
   "cell_type": "code",
   "execution_count": null,
   "id": "bc498d4a-5c57-4f3b-b53c-c921cf980b1f",
   "metadata": {},
   "outputs": [],
   "source": []
  },
  {
   "cell_type": "code",
   "execution_count": 4,
   "id": "c8052709-4168-4cd7-93a5-f7abfbf15c96",
   "metadata": {},
   "outputs": [
    {
     "name": "stdout",
     "output_type": "stream",
     "text": [
      "        Date    Weekday\n",
      "0 2023-01-01     Sunday\n",
      "1 2023-01-02     Monday\n",
      "2 2023-01-03    Tuesday\n",
      "3 2023-01-04  Wednesday\n",
      "4 2023-01-05   Thursday\n"
     ]
    }
   ],
   "source": [
    "import pandas as pd\n",
    "\n",
    "def add_weekday_column(df):\n",
    "    # Convert the 'Date' column to datetime format\n",
    "    df['Date'] = pd.to_datetime(df['Date'])\n",
    "    \n",
    "    # Extract the weekday name and add it as a new column 'Weekday'\n",
    "    df['Weekday'] = df['Date'].dt.strftime('%A')\n",
    "    \n",
    "    return df\n",
    "\n",
    "# Example usage:\n",
    "# Assuming df is your DataFrame with a column 'Date'\n",
    "df = pd.DataFrame({'Date': ['2023-01-01', '2023-01-02', '2023-01-03', '2023-01-04', '2023-01-05']})\n",
    "\n",
    "# Add the 'Weekday' column\n",
    "df = add_weekday_column(df)\n",
    "print(df)\n"
   ]
  },
  {
   "cell_type": "code",
   "execution_count": null,
   "id": "a2c914f8-a714-4658-9ba4-e3aacd9e6756",
   "metadata": {},
   "outputs": [],
   "source": []
  },
  {
   "cell_type": "code",
   "execution_count": 6,
   "id": "00febb7b-fcda-42c4-abb1-631dc005c5b7",
   "metadata": {},
   "outputs": [
    {
     "name": "stdout",
     "output_type": "stream",
     "text": [
      "        Date\n",
      "0 2023-01-01\n",
      "1 2023-01-15\n",
      "2 2023-01-31\n"
     ]
    }
   ],
   "source": [
    "import pandas as pd\n",
    "\n",
    "def select_rows_between_dates(df):\n",
    "    # Convert the 'Date' column to datetime format\n",
    "    df['Date'] = pd.to_datetime(df['Date'])\n",
    "    \n",
    "    # Define the start and end dates for filtering\n",
    "    start_date = '2023-01-01'\n",
    "    end_date = '2023-01-31'\n",
    "    \n",
    "    # Select rows where the date is between start_date and end_date\n",
    "    selected_rows = df[(df['Date'] >= start_date) & (df['Date'] <= end_date)]\n",
    "    \n",
    "    return selected_rows\n",
    "\n",
    "# Example usage:\n",
    "# Assuming df is your DataFrame with a column 'Date'\n",
    "df = pd.DataFrame({'Date': ['2023-01-01', '2023-01-15', '2023-01-31', '2023-02-05', '2023-02-10']})\n",
    "\n",
    "# Select rows between '2023-01-01' and '2023-01-31'\n",
    "selected_df = select_rows_between_dates(df)\n",
    "print(selected_df)\n"
   ]
  },
  {
   "cell_type": "code",
   "execution_count": null,
   "id": "f27edf80-cadf-471e-b858-1f1b90983082",
   "metadata": {},
   "outputs": [],
   "source": []
  },
  {
   "cell_type": "code",
   "execution_count": 7,
   "id": "0c56804c-b19f-420e-8d5b-e2764dbb5511",
   "metadata": {},
   "outputs": [],
   "source": [
    "import pandas as pd\n"
   ]
  },
  {
   "cell_type": "code",
   "execution_count": null,
   "id": "be3b9fd5-ac21-4472-958a-03dfddad82c3",
   "metadata": {},
   "outputs": [],
   "source": []
  }
 ],
 "metadata": {
  "kernelspec": {
   "display_name": "Python 3 (ipykernel)",
   "language": "python",
   "name": "python3"
  },
  "language_info": {
   "codemirror_mode": {
    "name": "ipython",
    "version": 3
   },
   "file_extension": ".py",
   "mimetype": "text/x-python",
   "name": "python",
   "nbconvert_exporter": "python",
   "pygments_lexer": "ipython3",
   "version": "3.10.8"
  }
 },
 "nbformat": 4,
 "nbformat_minor": 5
}
